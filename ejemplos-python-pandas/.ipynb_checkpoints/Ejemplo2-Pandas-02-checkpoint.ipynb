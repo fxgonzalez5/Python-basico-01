{
 "cells": [
  {
   "cell_type": "code",
   "execution_count": 1,
   "metadata": {},
   "outputs": [],
   "source": [
    "import pandas as pd\n"
   ]
  },
  {
   "cell_type": "code",
   "execution_count": 2,
   "metadata": {
    "scrolled": false
   },
   "outputs": [
    {
     "name": "stdout",
     "output_type": "stream",
     "text": [
      " El volumen de la unidad C es Windows\n",
      " El n£mero de serie del volumen es: EAA5-768A\n",
      "\n",
      " Directorio de C:\\Users\\Francisco\\Documents\\Programaci¢n\\Projects_Pythom\\Python-basico-01\\ejemplos-python-pandas\n",
      "\n",
      "09/03/2022  19:09    <DIR>          .\n",
      "09/03/2022  19:09    <DIR>          ..\n",
      "08/03/2022  17:56    <DIR>          .ipynb_checkpoints\n",
      "08/03/2022  17:56    <DIR>          data\n",
      "08/03/2022  17:56            50.588 Ejemplo2-Pandas-02.ipynb\n",
      "09/03/2022  19:09             3.980 Ejemplo-Pandas-01.ipynb\n",
      "08/03/2022  17:56             9.296 Ejemplo-Pandas-03-BD.ipynb\n",
      "               3 archivos         63.864 bytes\n",
      "               4 dirs  71.075.246.080 bytes libres\n"
     ]
    }
   ],
   "source": [
    "ls"
   ]
  },
  {
   "cell_type": "code",
   "execution_count": 3,
   "metadata": {},
   "outputs": [
    {
     "name": "stdout",
     "output_type": "stream",
     "text": [
      " El volumen de la unidad C es Windows\n",
      " El n£mero de serie del volumen es: EAA5-768A\n",
      "\n",
      " Directorio de C:\\Users\\Francisco\\Documents\\Programaci¢n\\Projects_Pythom\\Python-basico-01\\ejemplos-python-pandas\\data\n",
      "\n",
      "08/03/2022  17:56    <DIR>          .\n",
      "08/03/2022  17:56    <DIR>          ..\n",
      "08/03/2022  17:56           211.968 instituciones.db\n",
      "08/03/2022  17:56        25.809.956 Matrimonios_2014.csv\n",
      "               2 archivos     26.021.924 bytes\n",
      "               2 dirs  71.077.703.680 bytes libres\n"
     ]
    }
   ],
   "source": [
    "ls data"
   ]
  },
  {
   "cell_type": "code",
   "execution_count": 4,
   "metadata": {},
   "outputs": [],
   "source": [
    "df = pd.read_csv(\"data/Matrimonios_2014.csv\")"
   ]
  },
  {
   "cell_type": "code",
   "execution_count": 5,
   "metadata": {},
   "outputs": [
    {
     "data": {
      "text/plain": [
       "Index(['Unnamed: 0', 'ofi_insc', 'prov_insc', 'cant_insc', 'parr_insc',\n",
       "       'anio_insc', 'mes_insc', 'dia_insc', 'fecha_insc', 'hijos_rec',\n",
       "       'mcap_bie', 'nac_hom', 'cod_paish', 'anio_nach', 'mes_nach', 'dia_nach',\n",
       "       'fecha_nach', 'edad_hom', 'nmatanth', 'est_civih', 'p_etnica_hom',\n",
       "       'sabe_leerh', 'niv_insth', 'prov_habh', 'cant_habh', 'parr_habh',\n",
       "       'area_hom', 'nac_muj', 'cod_paism', 'anio_nacm', 'mes_nacm', 'dia_nacm',\n",
       "       'fecha_nacm', 'edad_muj', 'nmatantm', 'est_civim', 'p_etnica_muj',\n",
       "       'sabe_leerm', 'niv_instm', 'prov_habm', 'cant_habm', 'parr_habm',\n",
       "       'area_muj'],\n",
       "      dtype='object')"
      ]
     },
     "execution_count": 5,
     "metadata": {},
     "output_type": "execute_result"
    }
   ],
   "source": [
    "df.keys()"
   ]
  },
  {
   "cell_type": "code",
   "execution_count": 6,
   "metadata": {},
   "outputs": [
    {
     "data": {
      "text/html": [
       "<div>\n",
       "<style scoped>\n",
       "    .dataframe tbody tr th:only-of-type {\n",
       "        vertical-align: middle;\n",
       "    }\n",
       "\n",
       "    .dataframe tbody tr th {\n",
       "        vertical-align: top;\n",
       "    }\n",
       "\n",
       "    .dataframe thead th {\n",
       "        text-align: right;\n",
       "    }\n",
       "</style>\n",
       "<table border=\"1\" class=\"dataframe\">\n",
       "  <thead>\n",
       "    <tr style=\"text-align: right;\">\n",
       "      <th></th>\n",
       "      <th>Unnamed: 0</th>\n",
       "      <th>ofi_insc</th>\n",
       "      <th>prov_insc</th>\n",
       "      <th>cant_insc</th>\n",
       "      <th>parr_insc</th>\n",
       "      <th>anio_insc</th>\n",
       "      <th>mes_insc</th>\n",
       "      <th>dia_insc</th>\n",
       "      <th>fecha_insc</th>\n",
       "      <th>hijos_rec</th>\n",
       "      <th>...</th>\n",
       "      <th>edad_muj</th>\n",
       "      <th>nmatantm</th>\n",
       "      <th>est_civim</th>\n",
       "      <th>p_etnica_muj</th>\n",
       "      <th>sabe_leerm</th>\n",
       "      <th>niv_instm</th>\n",
       "      <th>prov_habm</th>\n",
       "      <th>cant_habm</th>\n",
       "      <th>parr_habm</th>\n",
       "      <th>area_muj</th>\n",
       "    </tr>\n",
       "  </thead>\n",
       "  <tbody>\n",
       "    <tr>\n",
       "      <th>0</th>\n",
       "      <td>1</td>\n",
       "      <td>2</td>\n",
       "      <td>Pichincha</td>\n",
       "      <td>Quito</td>\n",
       "      <td>Iñaquito</td>\n",
       "      <td>2014</td>\n",
       "      <td>Septiembre</td>\n",
       "      <td>18</td>\n",
       "      <td>1.363038e+10</td>\n",
       "      <td>0</td>\n",
       "      <td>...</td>\n",
       "      <td>26</td>\n",
       "      <td>0</td>\n",
       "      <td>Soltera</td>\n",
       "      <td>Mestiza</td>\n",
       "      <td>Si</td>\n",
       "      <td>Superior</td>\n",
       "      <td>Pichincha</td>\n",
       "      <td>Quito</td>\n",
       "      <td>Quito Distrito Metropolitano, cabecera cantona...</td>\n",
       "      <td>Urbana</td>\n",
       "    </tr>\n",
       "  </tbody>\n",
       "</table>\n",
       "<p>1 rows × 43 columns</p>\n",
       "</div>"
      ],
      "text/plain": [
       "   Unnamed: 0  ofi_insc  prov_insc cant_insc  parr_insc  anio_insc  \\\n",
       "0           1         2  Pichincha     Quito  Iñaquito        2014   \n",
       "\n",
       "       mes_insc  dia_insc    fecha_insc  hijos_rec  ... edad_muj nmatantm  \\\n",
       "0   Septiembre         18  1.363038e+10          0  ...       26        0   \n",
       "\n",
       "  est_civim  p_etnica_muj sabe_leerm  niv_instm  prov_habm  cant_habm  \\\n",
       "0   Soltera       Mestiza         Si   Superior  Pichincha      Quito   \n",
       "\n",
       "                                           parr_habm area_muj  \n",
       "0  Quito Distrito Metropolitano, cabecera cantona...   Urbana  \n",
       "\n",
       "[1 rows x 43 columns]"
      ]
     },
     "execution_count": 6,
     "metadata": {},
     "output_type": "execute_result"
    }
   ],
   "source": [
    "df.head(1)"
   ]
  },
  {
   "cell_type": "code",
   "execution_count": 35,
   "metadata": {},
   "outputs": [
    {
     "data": {
      "image/png": "[encoded data removed]",
      "text/plain": [
       "<Figure size 432x288 with 1 Axes>"
      ]
     },
     "metadata": {
      "needs_background": "light"
     },
     "output_type": "display_data"
    }
   ],
   "source": [
    "df.mes_insc.value_counts()[:12].sort_values(inplace=False).plot(kind='barh');"
   ]
  },
  {
   "cell_type": "code",
   "execution_count": 29,
   "metadata": {},
   "outputs": [
    {
     "data": {
      "image/png": "[encoded data removed]",
      "text/plain": [
       "<Figure size 432x288 with 1 Axes>"
      ]
     },
     "metadata": {
      "needs_background": "light"
     },
     "output_type": "display_data"
    }
   ],
   "source": [
    "df[df['prov_insc'].str.strip()=='Guayas'].mes_insc.value_counts(normalize=True)\\\n",
    ".sort_values(inplace=False).plot(kind='barh');"
   ]
  },
  {
   "cell_type": "code",
   "execution_count": 28,
   "metadata": {},
   "outputs": [
    {
     "data": {
      "image/png": "[encoded data removed]",
      "text/plain": [
       "<Figure size 432x288 with 1 Axes>"
      ]
     },
     "metadata": {
      "needs_background": "light"
     },
     "output_type": "display_data"
    }
   ],
   "source": [
    "df[df['prov_insc'].str.strip()=='Loja'].mes_insc.value_counts(normalize=True)\\\n",
    ".sort_values(inplace=False).plot(kind='barh');"
   ]
  },
  {
   "cell_type": "code",
   "execution_count": null,
   "metadata": {},
   "outputs": [],
   "source": []
  }
 ],
 "metadata": {
  "kernelspec": {
   "display_name": "Python 3 (ipykernel)",
   "language": "python",
   "name": "python3"
  },
  "language_info": {
   "codemirror_mode": {
    "name": "ipython",
    "version": 3
   },
   "file_extension": ".py",
   "mimetype": "text/x-python",
   "name": "python",
   "nbconvert_exporter": "python",
   "pygments_lexer": "ipython3",
   "version": "3.10.2"
  }
 },
 "nbformat": 4,
 "nbformat_minor": 1
}
