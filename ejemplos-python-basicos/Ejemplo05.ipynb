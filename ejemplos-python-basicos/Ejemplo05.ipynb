{
 "cells": [
  {
   "cell_type": "code",
   "execution_count": 1,
   "id": "adcbd8c1",
   "metadata": {},
   "outputs": [
    {
     "name": "stdout",
     "output_type": "stream",
     "text": [
      "a\n",
      "1\n",
      "[]\n",
      "b\n",
      "----------------------\n",
      "1\n",
      "b\n",
      "c\n",
      "10\n"
     ]
    }
   ],
   "source": [
    "lista1 = []\n",
    "\n",
    "lista2 = [\"a\", 1, [], \"b\"]\n",
    "\n",
    "lista3 = [1]\n",
    "lista3.append(\"b\")\n",
    "lista3.append(\"c\")\n",
    "lista3.append(10)\n",
    "\n",
    "\n",
    "\n",
    "for i in lista2:\n",
    "    print(i)\n",
    "\n",
    "print(\"----------------------\")\n",
    "\n",
    "for i in lista3:\n",
    "    print(i)"
   ]
  },
  {
   "cell_type": "code",
   "execution_count": null,
   "id": "b3cc25af",
   "metadata": {},
   "outputs": [],
   "source": []
  }
 ],
 "metadata": {
  "kernelspec": {
   "display_name": "Python 3 (ipykernel)",
   "language": "python",
   "name": "python3"
  },
  "language_info": {
   "codemirror_mode": {
    "name": "ipython",
    "version": 3
   },
   "file_extension": ".py",
   "mimetype": "text/x-python",
   "name": "python",
   "nbconvert_exporter": "python",
   "pygments_lexer": "ipython3",
   "version": "3.10.2"
  }
 },
 "nbformat": 4,
 "nbformat_minor": 5
}
