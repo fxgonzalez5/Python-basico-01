{
 "cells": [
  {
   "cell_type": "code",
   "execution_count": 2,
   "id": "17ab6bc6",
   "metadata": {},
   "outputs": [],
   "source": [
    "lista = []\n",
    "data1 = {\"Nombre\": \"Rene\", \"Apellido\": \"Elizalde\", \"Edad\": 30}\n",
    "data2 = {\"Nombre\": \"Francisco\", \"Apellido\": \"González\", \"Edad\": 19}\n",
    "data3 = {\"Nombre\": \"Lilibeth\", \"Apellido\": \"Puchaicela\", \"Edad\": 23}\n",
    "data4 = {\"Nombre\": \"Nixon\", \"Apellido\": \"Vuele\", \"Edad\": 19}"
   ]
  },
  {
   "cell_type": "code",
   "execution_count": 3,
   "id": "4bca2573",
   "metadata": {},
   "outputs": [],
   "source": [
    "lista.append(data1)\n",
    "lista.append(data2)\n",
    "lista.append(data3)\n",
    "lista.append(data4)"
   ]
  },
  {
   "cell_type": "code",
   "execution_count": 4,
   "id": "18b7593a",
   "metadata": {},
   "outputs": [
    {
     "name": "stdout",
     "output_type": "stream",
     "text": [
      "[{'Nombre': 'Rene', 'Apellido': 'Elizalde', 'Edad': 30}, {'Nombre': 'Francisco', 'Apellido': 'González', 'Edad': 19}, {'Nombre': 'Lilibeth', 'Apellido': 'Puchaicela', 'Edad': 23}, {'Nombre': 'Nixon', 'Apellido': 'Vuele', 'Edad': 19}]\n"
     ]
    }
   ],
   "source": [
    "print(lista)"
   ]
  },
  {
   "cell_type": "code",
   "execution_count": 5,
   "id": "9c742132",
   "metadata": {},
   "outputs": [
    {
     "name": "stdout",
     "output_type": "stream",
     "text": [
      "{'Nombre': 'Rene', 'Apellido': 'Elizalde', 'Edad': 30}\n",
      "{'Nombre': 'Francisco', 'Apellido': 'González', 'Edad': 19}\n",
      "{'Nombre': 'Lilibeth', 'Apellido': 'Puchaicela', 'Edad': 23}\n",
      "{'Nombre': 'Nixon', 'Apellido': 'Vuele', 'Edad': 19}\n"
     ]
    }
   ],
   "source": [
    "for i in lista:\n",
    "    print(i)"
   ]
  },
  {
   "cell_type": "code",
   "execution_count": 7,
   "id": "1f730bba",
   "metadata": {},
   "outputs": [
    {
     "name": "stdout",
     "output_type": "stream",
     "text": [
      "30\n",
      "19\n",
      "23\n",
      "19\n"
     ]
    }
   ],
   "source": [
    "for i in lista:\n",
    "    print(i[\"Edad\"])"
   ]
  },
  {
   "cell_type": "code",
   "execution_count": 9,
   "id": "4a68c886",
   "metadata": {},
   "outputs": [
    {
     "name": "stdout",
     "output_type": "stream",
     "text": [
      "91\n"
     ]
    }
   ],
   "source": [
    "suma = 0\n",
    "for i in lista:\n",
    "    suma = suma + i[\"Edad\"]\n",
    "print(suma)"
   ]
  },
  {
   "cell_type": "code",
   "execution_count": 10,
   "id": "bacdc6e3",
   "metadata": {
    "scrolled": true
   },
   "outputs": [
    {
     "data": {
      "text/plain": [
       "6"
      ]
     },
     "execution_count": 10,
     "metadata": {},
     "output_type": "execute_result"
    }
   ],
   "source": [
    "lista2 = [1,2,3]\n",
    "sum(lista2)"
   ]
  },
  {
   "cell_type": "code",
   "execution_count": 19,
   "id": "dcca87a9",
   "metadata": {},
   "outputs": [
    {
     "data": {
      "text/plain": [
       "[30, 19, 23, 19]"
      ]
     },
     "execution_count": 19,
     "metadata": {},
     "output_type": "execute_result"
    }
   ],
   "source": [
    "lista3 = []\n",
    "for i in lista:\n",
    "    lista3.append(i['Edad'])\n",
    "lista3"
   ]
  },
  {
   "cell_type": "code",
   "execution_count": 21,
   "id": "c654329d",
   "metadata": {},
   "outputs": [
    {
     "data": {
      "text/plain": [
       "91"
      ]
     },
     "execution_count": 21,
     "metadata": {},
     "output_type": "execute_result"
    }
   ],
   "source": [
    "sum(lista3)"
   ]
  },
  {
   "cell_type": "code",
   "execution_count": 23,
   "id": "bbca3ba6",
   "metadata": {},
   "outputs": [
    {
     "data": {
      "text/plain": [
       "91"
      ]
     },
     "execution_count": 23,
     "metadata": {},
     "output_type": "execute_result"
    }
   ],
   "source": [
    "lista4 = [i['Edad'] for i in lista]\n",
    "sum(lista4)"
   ]
  },
  {
   "cell_type": "code",
   "execution_count": 25,
   "id": "4ecd01f8",
   "metadata": {},
   "outputs": [
    {
     "data": {
      "text/plain": [
       "91"
      ]
     },
     "execution_count": 25,
     "metadata": {},
     "output_type": "execute_result"
    }
   ],
   "source": [
    "sum(i['Edad'] for i in lista)"
   ]
  }
 ],
 "metadata": {
  "kernelspec": {
   "display_name": "Python 3 (ipykernel)",
   "language": "python",
   "name": "python3"
  },
  "language_info": {
   "codemirror_mode": {
    "name": "ipython",
    "version": 3
   },
   "file_extension": ".py",
   "mimetype": "text/x-python",
   "name": "python",
   "nbconvert_exporter": "python",
   "pygments_lexer": "ipython3",
   "version": "3.10.2"
  }
 },
 "nbformat": 4,
 "nbformat_minor": 5
}
