{
 "cells": [
  {
   "cell_type": "code",
   "execution_count": 1,
   "id": "adcbd8c1",
   "metadata": {},
   "outputs": [
    {
     "name": "stdout",
     "output_type": "stream",
     "text": [
      "110\n",
      "115\n",
      "120\n",
      "125\n",
      "130\n",
      "135\n",
      "140\n",
      "145\n",
      "150\n",
      "155\n",
      "160\n",
      "165\n",
      "170\n",
      "175\n",
      "180\n",
      "185\n",
      "190\n",
      "195\n",
      "200\n",
      "205\n",
      "210\n",
      "215\n",
      "220\n",
      "225.00\n"
     ]
    }
   ],
   "source": [
    "sueldo = 110\n",
    "\n",
    "while sueldo <= 220:\n",
    "    print(f\"{sueldo}\")\n",
    "    sueldo = sueldo + 5\n",
    "\n",
    "print(\"%.2f\" % sueldo)"
   ]
  },
  {
   "cell_type": "code",
   "execution_count": 4,
   "id": "b3cc25af",
   "metadata": {},
   "outputs": [],
   "source": [
    "lista = [1, \"Hola\", \"Mundo\", 2]"
   ]
  },
  {
   "cell_type": "code",
   "execution_count": 5,
   "id": "9f0a1fd8",
   "metadata": {},
   "outputs": [
    {
     "name": "stdout",
     "output_type": "stream",
     "text": [
      "1\n",
      "Hola\n",
      "Mundo\n",
      "2\n"
     ]
    }
   ],
   "source": [
    "for i in lista:\n",
    "    print(i)"
   ]
  }
 ],
 "metadata": {
  "kernelspec": {
   "display_name": "Python 3 (ipykernel)",
   "language": "python",
   "name": "python3"
  },
  "language_info": {
   "codemirror_mode": {
    "name": "ipython",
    "version": 3
   },
   "file_extension": ".py",
   "mimetype": "text/x-python",
   "name": "python",
   "nbconvert_exporter": "python",
   "pygments_lexer": "ipython3",
   "version": "3.10.2"
  }
 },
 "nbformat": 4,
 "nbformat_minor": 5
}
