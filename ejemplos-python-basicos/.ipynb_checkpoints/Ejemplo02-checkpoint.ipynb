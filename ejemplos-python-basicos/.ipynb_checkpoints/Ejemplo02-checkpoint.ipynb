{
 "cells": [
  {
   "cell_type": "code",
   "execution_count": 1,
   "id": "adcbd8c1",
   "metadata": {},
   "outputs": [
    {
     "name": "stdout",
     "output_type": "stream",
     "text": [
      "Ingrese nombre del persona: Nelson\n",
      "Ingrese edad de persona: 43\n",
      "Ingrese el sueldo de la persona: 1000\n",
      "Nombre:Nelson\n",
      "Edad:43\n",
      "Sueldo:1000.00\n",
      "\n"
     ]
    }
   ],
   "source": [
    "nombre = input(\"Ingrese nombre del persona: \")\n",
    "\n",
    "edad = int(input(\"Ingrese edad de persona: \"))\n",
    "\n",
    "sueldo = float(input(\"Ingrese el sueldo de la persona: \"))\n",
    "                    \n",
    "mensajeFinal = \"Nombre:%s\\nEdad:%d\\nSueldo:%.2f\\n\" % (nombre, \n",
    "        edad, sueldo)\n",
    "\n",
    "print(mensajeFinal)"
   ]
  },
  {
   "cell_type": "code",
   "execution_count": null,
   "id": "b3cc25af",
   "metadata": {},
   "outputs": [],
   "source": []
  }
 ],
 "metadata": {
  "kernelspec": {
   "display_name": "Python 3 (ipykernel)",
   "language": "python",
   "name": "python3"
  },
  "language_info": {
   "codemirror_mode": {
    "name": "ipython",
    "version": 3
   },
   "file_extension": ".py",
   "mimetype": "text/x-python",
   "name": "python",
   "nbconvert_exporter": "python",
   "pygments_lexer": "ipython3",
   "version": "3.10.2"
  }
 },
 "nbformat": 4,
 "nbformat_minor": 5
}
